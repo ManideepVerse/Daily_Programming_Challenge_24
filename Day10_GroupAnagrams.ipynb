{
 "cells": [
  {
   "cell_type": "code",
   "execution_count": 1,
   "id": "ae60da0c",
   "metadata": {},
   "outputs": [],
   "source": [
    "def groupAnagrams(strgs):\n",
    "    anagram_groups= {}\n",
    "    for s in strgs:\n",
    "        count=[0] * 26\n",
    "        for char in s:\n",
    "            count[ord(char)-ord('a')]+= 1\n",
    "        \n",
    "        key=tuple(count)\n",
    "        if key in anagram_groups:\n",
    "            anagram_groups[key].append(s)\n",
    "        else:\n",
    "            anagram_groups[key]=[s]\n",
    "    \n",
    "    return list(anagram_groups.values())"
   ]
  },
  {
   "cell_type": "markdown",
   "id": "0cedf36e",
   "metadata": {},
   "source": [
    "# Test Cases"
   ]
  },
  {
   "cell_type": "code",
   "execution_count": 2,
   "id": "c871d6ef",
   "metadata": {},
   "outputs": [
    {
     "name": "stdout",
     "output_type": "stream",
     "text": [
      "[['eat', 'tea', 'ate'], ['tan', 'nat'], ['bat']]\n",
      "[['']]\n",
      "[['a']]\n",
      "[['abc', 'bca', 'cab'], ['xyz', 'zyx', 'yxz']]\n",
      "[['abc'], ['def'], ['ghi']]\n"
     ]
    }
   ],
   "source": [
    "print(groupAnagrams([\"eat\", \"tea\", \"tan\", \"ate\", \"nat\", \"bat\"]))\n",
    "print(groupAnagrams( [\"\"]))\n",
    "print(groupAnagrams( [\"a\"]))\n",
    "print(groupAnagrams([\"abc\", \"bca\", \"cab\", \"xyz\", \"zyx\", \"yxz\"]))\n",
    "print(groupAnagrams([\"abc\", \"def\", \"ghi\"]))"
   ]
  },
  {
   "cell_type": "code",
   "execution_count": null,
   "id": "4721a6ab",
   "metadata": {},
   "outputs": [],
   "source": []
  }
 ],
 "metadata": {
  "kernelspec": {
   "display_name": "Python 3 (ipykernel)",
   "language": "python",
   "name": "python3"
  },
  "language_info": {
   "codemirror_mode": {
    "name": "ipython",
    "version": 3
   },
   "file_extension": ".py",
   "mimetype": "text/x-python",
   "name": "python",
   "nbconvert_exporter": "python",
   "pygments_lexer": "ipython3",
   "version": "3.11.5"
  }
 },
 "nbformat": 4,
 "nbformat_minor": 5
}
