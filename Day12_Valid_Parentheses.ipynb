{
 "cells": [
  {
   "cell_type": "code",
   "execution_count": 1,
   "id": "cc90e228",
   "metadata": {},
   "outputs": [],
   "source": [
    "def isValid(s:str)-> bool:\n",
    "    stack=[]\n",
    "    matching_brackets={')': '(', '}': '{', ']': '['}\n",
    "    \n",
    "    for char in s:\n",
    "        if char=='(' or char=='{' or char=='[':\n",
    "            stack.append(char)\n",
    "        elif char==')' or char=='}' or char==']':\n",
    "            if not stack or stack[-1]!=matching_brackets[char]:\n",
    "                return False\n",
    "            stack.pop()\n",
    "  \n",
    "    return len(stack)==0"
   ]
  },
  {
   "cell_type": "markdown",
   "id": "eaa226ee",
   "metadata": {},
   "source": [
    "# Test cases"
   ]
  },
  {
   "cell_type": "code",
   "execution_count": 2,
   "id": "0d7dd76a",
   "metadata": {},
   "outputs": [
    {
     "name": "stdout",
     "output_type": "stream",
     "text": [
      "True\n",
      "False\n",
      "True\n",
      "True\n",
      "False\n"
     ]
    }
   ],
   "source": [
    "print(isValid(\"()\"))\n",
    "print(isValid(\"([)]\"))\n",
    "print(isValid( \"[{()}]\"))\n",
    "print(isValid(\"\"))\n",
    "print(isValid(\"{[}\"))"
   ]
  },
  {
   "cell_type": "code",
   "execution_count": null,
   "id": "c3ac8a4a",
   "metadata": {},
   "outputs": [],
   "source": []
  }
 ],
 "metadata": {
  "kernelspec": {
   "display_name": "Python 3 (ipykernel)",
   "language": "python",
   "name": "python3"
  },
  "language_info": {
   "codemirror_mode": {
    "name": "ipython",
    "version": 3
   },
   "file_extension": ".py",
   "mimetype": "text/x-python",
   "name": "python",
   "nbconvert_exporter": "python",
   "pygments_lexer": "ipython3",
   "version": "3.11.5"
  }
 },
 "nbformat": 4,
 "nbformat_minor": 5
}
