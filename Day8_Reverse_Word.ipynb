{
 "cells": [
  {
   "cell_type": "code",
   "execution_count": 13,
   "id": "72c933d4",
   "metadata": {},
   "outputs": [],
   "source": [
    "def reverse_words_custom(s: str) -> str:\n",
    "    w=\"\"\n",
    "    current_word=\"\"\n",
    "    \n",
    "    for char in s:\n",
    "        if char!=\" \":\n",
    "            current_word+=char\n",
    "        else:\n",
    "            if current_word!='':\n",
    "                w= current_word+ \" \" +w\n",
    "                current_word= \"\"\n",
    "    \n",
    "    if current_word!='':\n",
    "        w=current_word+\" \"+w\n",
    "    if w and w[-1]==\" \":\n",
    "        w=w[:-1]\n",
    "    return w"
   ]
  },
  {
   "cell_type": "markdown",
   "id": "c488fd03",
   "metadata": {},
   "source": [
    "# Test Cases"
   ]
  },
  {
   "cell_type": "code",
   "execution_count": 14,
   "id": "bcd1ef81",
   "metadata": {},
   "outputs": [
    {
     "name": "stdout",
     "output_type": "stream",
     "text": [
      "blue is sky the \n",
      "world hello \n",
      "example good a \n",
      "\n",
      "word \n"
     ]
    }
   ],
   "source": [
    "print(reverse_words(\"the sky is blue\"))\n",
    "print(reverse_words(\"hello world\"))\n",
    "print(reverse_words(\"a good   example\"))\n",
    "print(reverse_words(\" \"))\n",
    "print(reverse_words(\"word\"))"
   ]
  },
  {
   "cell_type": "code",
   "execution_count": null,
   "id": "7f769353",
   "metadata": {},
   "outputs": [],
   "source": []
  }
 ],
 "metadata": {
  "kernelspec": {
   "display_name": "Python 3 (ipykernel)",
   "language": "python",
   "name": "python3"
  },
  "language_info": {
   "codemirror_mode": {
    "name": "ipython",
    "version": 3
   },
   "file_extension": ".py",
   "mimetype": "text/x-python",
   "name": "python",
   "nbconvert_exporter": "python",
   "pygments_lexer": "ipython3",
   "version": "3.11.5"
  }
 },
 "nbformat": 4,
 "nbformat_minor": 5
}
