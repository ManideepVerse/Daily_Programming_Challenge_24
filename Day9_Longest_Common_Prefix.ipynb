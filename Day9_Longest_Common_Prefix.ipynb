{
 "cells": [
  {
   "cell_type": "code",
   "execution_count": 1,
   "id": "684a6192",
   "metadata": {},
   "outputs": [],
   "source": [
    "def longestCommonPrefix(strs):\n",
    "    if not strs:\n",
    "        return \"\"\n",
    "\n",
    "    min_len=len(strs[0])\n",
    "    for s in strs:\n",
    "        if len(s)< min_len:\n",
    "            min_len=len(s)\n",
    "\n",
    "    for i in range(min_len):\n",
    "        current_char=strs[0][i]\n",
    "        for s in strs:\n",
    "            if s[i]!= current_char:\n",
    "                return strs[0][:i]\n",
    "\n",
    "    return strs[0][:min_len]\n"
   ]
  },
  {
   "cell_type": "code",
   "execution_count": 2,
   "id": "f6355cc6",
   "metadata": {},
   "outputs": [
    {
     "name": "stdout",
     "output_type": "stream",
     "text": [
      "fl\n",
      "\n",
      "ap\n",
      "\n",
      "alone\n"
     ]
    }
   ],
   "source": [
    "print(longestCommonPrefix([\"flower\", \"flow\", \"flight\"]))\n",
    "print(longestCommonPrefix([\"dog\", \"racecar\", \"car\"]))\n",
    "print(longestCommonPrefix([\"apple\", \"ape\", \"april\"]))\n",
    "print(longestCommonPrefix([\"\"]))\n",
    "print(longestCommonPrefix([\"alone\"]))\n"
   ]
  },
  {
   "cell_type": "code",
   "execution_count": null,
   "id": "2cd7f2cb",
   "metadata": {},
   "outputs": [],
   "source": []
  }
 ],
 "metadata": {
  "kernelspec": {
   "display_name": "Python 3 (ipykernel)",
   "language": "python",
   "name": "python3"
  },
  "language_info": {
   "codemirror_mode": {
    "name": "ipython",
    "version": 3
   },
   "file_extension": ".py",
   "mimetype": "text/x-python",
   "name": "python",
   "nbconvert_exporter": "python",
   "pygments_lexer": "ipython3",
   "version": "3.11.5"
  }
 },
 "nbformat": 4,
 "nbformat_minor": 5
}
