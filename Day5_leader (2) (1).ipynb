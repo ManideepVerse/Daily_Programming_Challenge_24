{
 "cells": [
  {
   "cell_type": "code",
   "execution_count": 1,
   "id": "9c3f5358",
   "metadata": {},
   "outputs": [
    {
     "name": "stdout",
     "output_type": "stream",
     "text": [
      "[17, 5, 2]\n"
     ]
    }
   ],
   "source": [
    "def leaders(arr):\n",
    "    if not arr:\n",
    "        return []\n",
    "\n",
    "    leaders_list= []\n",
    "    max_right= arr[-1]\n",
    "    leaders_list.append(max_right)\n",
    "    \n",
    "    for i in range(len(arr)-2, -1, -1):\n",
    "        if arr[i] > max_right:\n",
    "            max_right=arr[i]\n",
    "            leaders_list.append(max_right)\n",
    "    \n",
    "    return leaders_list[::-1]\n"
   ]
  },
  {
   "cell_type": "code",
   "execution_count": 3,
   "id": "e5f72a1c",
   "metadata": {},
   "outputs": [
    {
     "name": "stdout",
     "output_type": "stream",
     "text": [
      "Test case 1: [17, 5, 2]\n",
      "Test case 1: [4, 0]\n",
      "Test case 1: [10, 6, 5, 2]\n",
      "Test case 1: [5]\n",
      "Test case 1: [100, 50, 20, 10]\n"
     ]
    }
   ],
   "source": [
    "print(f\"Test case 1: {leaders([16,17,4,3,5,2])}\")\n",
    "print(f\"Test case 1: {leaders([1, 2, 3, 4, 0])}\")\n",
    "print(f\"Test case 1: {leaders([7, 10, 4, 10, 6, 5, 2])}\")\n",
    "print(f\"Test case 1: {leaders([5])}\")\n",
    "print(f\"Test case 1: {leaders([100, 50, 20, 10])}\")\n"
   ]
  },
  {
   "cell_type": "code",
   "execution_count": null,
   "id": "92227faf",
   "metadata": {},
   "outputs": [],
   "source": []
  }
 ],
 "metadata": {
  "kernelspec": {
   "display_name": "Python 3 (ipykernel)",
   "language": "python",
   "name": "python3"
  },
  "language_info": {
   "codemirror_mode": {
    "name": "ipython",
    "version": 3
   },
   "file_extension": ".py",
   "mimetype": "text/x-python",
   "name": "python",
   "nbconvert_exporter": "python",
   "pygments_lexer": "ipython3",
   "version": "3.11.5"
  }
 },
 "nbformat": 4,
 "nbformat_minor": 5
}
