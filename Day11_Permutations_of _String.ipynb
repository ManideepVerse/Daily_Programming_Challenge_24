{
 "cells": [
  {
   "cell_type": "code",
   "execution_count": 1,
   "id": "a240f3a8",
   "metadata": {},
   "outputs": [],
   "source": [
    "def generate_permutations(s):\n",
    "    def backtrack(start):\n",
    "        if start==len(s):\n",
    "            result.append(\"\".join(s))\n",
    "            return\n",
    "        \n",
    "        used=[]\n",
    "        for i in range(start, len(s)):\n",
    "            if s[i] not in used:\n",
    "                used.append(s[i])\n",
    "                s[start], s[i]=s[i], s[start]\n",
    "                backtrack(start + 1)\n",
    "                s[start], s[i]=s[i], s[start]\n",
    "\n",
    "    s=list(s)\n",
    "    result=[]\n",
    "    backtrack(0)\n",
    "    return result\n"
   ]
  },
  {
   "cell_type": "code",
   "execution_count": 2,
   "id": "1dcc0d27",
   "metadata": {},
   "outputs": [
    {
     "name": "stdout",
     "output_type": "stream",
     "text": [
      "['abc', 'acb', 'bac', 'bca', 'cba', 'cab']\n",
      "['aab', 'aba', 'baa']\n",
      "['aaa']\n",
      "['a']\n",
      "['abcd', 'abdc', 'acbd', 'acdb', 'adcb', 'adbc', 'bacd', 'badc', 'bcad', 'bcda', 'bdca', 'bdac', 'cbad', 'cbda', 'cabd', 'cadb', 'cdab', 'cdba', 'dbca', 'dbac', 'dcba', 'dcab', 'dacb', 'dabc']\n"
     ]
    }
   ],
   "source": [
    "print(generate_permutations(\"abc\"))\n",
    "print(generate_permutations(\"aab\"))\n",
    "print(generate_permutations(\"aaa\"))\n",
    "print(generate_permutations(\"a\"))\n",
    "print(generate_permutations(\"abcd\"))"
   ]
  },
  {
   "cell_type": "code",
   "execution_count": null,
   "id": "14d4e5f5",
   "metadata": {},
   "outputs": [],
   "source": []
  }
 ],
 "metadata": {
  "kernelspec": {
   "display_name": "Python 3 (ipykernel)",
   "language": "python",
   "name": "python3"
  },
  "language_info": {
   "codemirror_mode": {
    "name": "ipython",
    "version": 3
   },
   "file_extension": ".py",
   "mimetype": "text/x-python",
   "name": "python",
   "nbconvert_exporter": "python",
   "pygments_lexer": "ipython3",
   "version": "3.11.5"
  }
 },
 "nbformat": 4,
 "nbformat_minor": 5
}
