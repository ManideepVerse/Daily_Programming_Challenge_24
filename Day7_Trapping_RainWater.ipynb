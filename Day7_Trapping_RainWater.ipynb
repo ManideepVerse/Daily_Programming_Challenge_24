{
 "cells": [
  {
   "cell_type": "code",
   "execution_count": 14,
   "id": "6109db70",
   "metadata": {},
   "outputs": [],
   "source": [
    "def trapped_water(arr):\n",
    "    left=0\n",
    "    right=len(arr)-1\n",
    "    left_max=arr[left]\n",
    "    right_max=arr[right]\n",
    "    total_water=0\n",
    "    \n",
    "    while left <= right:\n",
    "        if left_max <= right_max:\n",
    "            if arr[left] < left_max:\n",
    "                total_water += left_max-arr[left]\n",
    "            else:\n",
    "                left_max=arr[left]\n",
    "            left += 1\n",
    "        else:\n",
    "            if arr[right] <right_max:\n",
    "                total_water += right_max-arr[right]\n",
    "            else:\n",
    "                right_max=arr[right]\n",
    "            right -= 1\n",
    "            \n",
    "    return total_water\n"
   ]
  },
  {
   "cell_type": "markdown",
   "id": "4c9c832b",
   "metadata": {},
   "source": [
    "# Test Cases"
   ]
  },
  {
   "cell_type": "code",
   "execution_count": 15,
   "id": "dff3aaec",
   "metadata": {},
   "outputs": [
    {
     "name": "stdout",
     "output_type": "stream",
     "text": [
      "6\n",
      "9\n",
      "0\n",
      "0\n",
      "2\n"
     ]
    }
   ],
   "source": [
    "print(trapped_water([0, 1, 0, 2, 1, 0, 1, 3, 2, 1, 2, 1]))\n",
    "print(trapped_water([4, 2, 0, 3, 2, 5]))\n",
    "print(trapped_water([1, 1, 1]))\n",
    "print(trapped_water([5]))\n",
    "print(trapped_water([2, 0, 2]))"
   ]
  },
  {
   "cell_type": "code",
   "execution_count": 6,
   "id": "afa149e3",
   "metadata": {},
   "outputs": [],
   "source": []
  }
 ],
 "metadata": {
  "kernelspec": {
   "display_name": "Python 3 (ipykernel)",
   "language": "python",
   "name": "python3"
  },
  "language_info": {
   "codemirror_mode": {
    "name": "ipython",
    "version": 3
   },
   "file_extension": ".py",
   "mimetype": "text/x-python",
   "name": "python",
   "nbconvert_exporter": "python",
   "pygments_lexer": "ipython3",
   "version": "3.11.5"
  }
 },
 "nbformat": 4,
 "nbformat_minor": 5
}
