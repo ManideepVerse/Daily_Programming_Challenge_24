{
 "cells": [
  {
   "cell_type": "code",
   "execution_count": 1,
   "id": "d4bcbd45",
   "metadata": {},
   "outputs": [],
   "source": [
    "def count_substrings(s, k):\n",
    "    n=len(s)\n",
    "    result=0\n",
    "\n",
    "    for i in range(n):\n",
    "        freq=[0] * 26\n",
    "        distinct_count=0\n",
    "        for j in range(i, n):\n",
    "            idx=ord(s[j])-ord('a')\n",
    "            if freq[idx]==0:\n",
    "                distinct_count+=1\n",
    "            freq[idx]+=1\n",
    "            if distinct_count==k:\n",
    "                result+=1\n",
    "            elif distinct_count>k:\n",
    "                break\n",
    "\n",
    "    return result"
   ]
  },
  {
   "cell_type": "markdown",
   "id": "65daf8ec",
   "metadata": {},
   "source": [
    "# Test Cases"
   ]
  },
  {
   "cell_type": "code",
   "execution_count": 2,
   "id": "5ea70cf7",
   "metadata": {},
   "outputs": [
    {
     "name": "stdout",
     "output_type": "stream",
     "text": [
      "7\n",
      "12\n",
      "1\n",
      "1\n",
      "2\n"
     ]
    }
   ],
   "source": [
    "print(count_substrings(s = \"pqpqs\", k = 2))\n",
    "print(count_substrings(s = \"aabacbebebe\", k = 3))\n",
    "print(count_substrings(s = \"a\", k = 1))\n",
    "print(count_substrings(s = \"abc\", k = 3))\n",
    "print(count_substrings(s = \"abc\", k = 2))"
   ]
  },
  {
   "cell_type": "code",
   "execution_count": null,
   "id": "8e1b1020",
   "metadata": {},
   "outputs": [],
   "source": []
  }
 ],
 "metadata": {
  "kernelspec": {
   "display_name": "Python 3 (ipykernel)",
   "language": "python",
   "name": "python3"
  },
  "language_info": {
   "codemirror_mode": {
    "name": "ipython",
    "version": 3
   },
   "file_extension": ".py",
   "mimetype": "text/x-python",
   "name": "python",
   "nbconvert_exporter": "python",
   "pygments_lexer": "ipython3",
   "version": "3.11.5"
  }
 },
 "nbformat": 4,
 "nbformat_minor": 5
}
