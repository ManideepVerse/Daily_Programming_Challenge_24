{
 "cells": [
  {
   "cell_type": "code",
   "execution_count": 1,
   "id": "9193a805",
   "metadata": {},
   "outputs": [],
   "source": [
    "def longest_substring(s:str)->int:\n",
    "    left=0\n",
    "    max_len=0\n",
    "    char_set=set()\n",
    "    for right in range(len(s)):\n",
    "        while s[right] in char_set:\n",
    "            char_set.remove(s[left])\n",
    "            left+=1\n",
    "        \n",
    "        char_set.add(s[right])\n",
    "        max_len=max(max_len, right - left + 1)\n",
    "    \n",
    "    return max_len"
   ]
  },
  {
   "cell_type": "markdown",
   "id": "96572edb",
   "metadata": {},
   "source": [
    "# Test Cases"
   ]
  },
  {
   "cell_type": "code",
   "execution_count": 2,
   "id": "25df27d4",
   "metadata": {},
   "outputs": [
    {
     "name": "stdout",
     "output_type": "stream",
     "text": [
      "3\n",
      "1\n",
      "3\n",
      "8\n",
      "1\n"
     ]
    }
   ],
   "source": [
    "print(longest_substring(\"abcabcbb\"))\n",
    "print(longest_substring(\"bbbbb\"))\n",
    "print(longest_substring(\"pwwkew\"))\n",
    "print(longest_substring(\"abcdefgh\"))\n",
    "print(longest_substring(\"a\"))"
   ]
  },
  {
   "cell_type": "code",
   "execution_count": null,
   "id": "4a13863a",
   "metadata": {},
   "outputs": [],
   "source": []
  }
 ],
 "metadata": {
  "kernelspec": {
   "display_name": "Python 3 (ipykernel)",
   "language": "python",
   "name": "python3"
  },
  "language_info": {
   "codemirror_mode": {
    "name": "ipython",
    "version": 3
   },
   "file_extension": ".py",
   "mimetype": "text/x-python",
   "name": "python",
   "nbconvert_exporter": "python",
   "pygments_lexer": "ipython3",
   "version": "3.11.5"
  }
 },
 "nbformat": 4,
 "nbformat_minor": 5
}
