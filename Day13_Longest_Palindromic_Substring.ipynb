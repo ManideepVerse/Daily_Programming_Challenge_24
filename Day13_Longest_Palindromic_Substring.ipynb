{
 "cells": [
  {
   "cell_type": "code",
   "execution_count": 1,
   "id": "38860785",
   "metadata": {},
   "outputs": [],
   "source": [
    "def longest_palindrome(s):\n",
    "    n=len(s)\n",
    "    if n<=1:\n",
    "        return s\n",
    "\n",
    "    start=0\n",
    "    max_len=1\n",
    "    def expand_from_center(l, r):\n",
    "        while l>=0 and r<n and s[l]==s[r]:\n",
    "            l-= 1\n",
    "            r+= 1\n",
    "        return l+1, r-1\n",
    "    for i in range(n):\n",
    "        left1, right1=expand_from_center(i, i)\n",
    "        if right1-left1+1>max_len:\n",
    "            start=left1\n",
    "            max_len=right1-left1+1\n",
    "        left2, right2=expand_from_center(i, i + 1)\n",
    "        if right2-left2+1 > max_len:\n",
    "            start=left2\n",
    "            max_len=right2 - left2 + 1\n",
    "\n",
    "    return s[start:start+ max_len]\n"
   ]
  },
  {
   "cell_type": "markdown",
   "id": "3ffb0d6e",
   "metadata": {},
   "source": [
    "# Test Cases"
   ]
  },
  {
   "cell_type": "code",
   "execution_count": 2,
   "id": "e0d46bc4",
   "metadata": {},
   "outputs": [
    {
     "name": "stdout",
     "output_type": "stream",
     "text": [
      "bab\n",
      "bb\n",
      "a\n",
      "aaaa\n",
      "a\n"
     ]
    }
   ],
   "source": [
    "print(longest_palindrome(\"babad\"))\n",
    "print(longest_palindrome(\"cbbd\"))\n",
    "print(longest_palindrome(\"a\"))\n",
    "print(longest_palindrome(\"aaaa\"))\n",
    "print(longest_palindrome(\"abc\"))"
   ]
  },
  {
   "cell_type": "code",
   "execution_count": null,
   "id": "dfb9d736",
   "metadata": {},
   "outputs": [],
   "source": []
  }
 ],
 "metadata": {
  "kernelspec": {
   "display_name": "Python 3 (ipykernel)",
   "language": "python",
   "name": "python3"
  },
  "language_info": {
   "codemirror_mode": {
    "name": "ipython",
    "version": 3
   },
   "file_extension": ".py",
   "mimetype": "text/x-python",
   "name": "python",
   "nbconvert_exporter": "python",
   "pygments_lexer": "ipython3",
   "version": "3.11.5"
  }
 },
 "nbformat": 4,
 "nbformat_minor": 5
}
